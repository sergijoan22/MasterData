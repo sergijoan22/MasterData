{
  "nbformat": 4,
  "nbformat_minor": 0,
  "metadata": {
    "colab": {
      "name": "19_nov_6.ipynb",
      "provenance": [],
      "collapsed_sections": []
    },
    "kernelspec": {
      "name": "python3",
      "display_name": "Python 3"
    },
    "language_info": {
      "name": "python"
    }
  },
  "cells": [
    {
      "cell_type": "markdown",
      "metadata": {
        "id": "QKNMsGnmoonF"
      },
      "source": [
        "# Comparación de más de dos medias\n",
        "# Vamos a comprarar los datos de ventas dependiendo de las estaciones"
      ]
    },
    {
      "cell_type": "markdown",
      "metadata": {
        "id": "ECkQFJfdoqn5"
      },
      "source": [
        "Importamos librerias"
      ]
    },
    {
      "cell_type": "markdown",
      "metadata": {
        "id": "bSrAunyLom8o"
      },
      "source": [
        ""
      ]
    },
    {
      "cell_type": "code",
      "metadata": {
        "id": "UtTGWv6cnarr"
      },
      "source": [
        "from google.colab import drive # For linking colab to Google Drive\n",
        "import pandas as pd # Datasets\n",
        "import numpy as np # Vectores, matrices\n",
        "import matplotlib.pyplot as plt # Hacer gráficos\n",
        "import scipy.stats as stats # Estadística\n",
        "import seaborn as sns # Gráficos\n",
        "from pandas.api.types import CategoricalDtype # Para variables ordinales"
      ],
      "execution_count": null,
      "outputs": []
    },
    {
      "cell_type": "markdown",
      "metadata": {
        "id": "pLmZOrBfo0AZ"
      },
      "source": [
        "Montamos nuestro Google Drive como una unidad para cargar y guardar archivos"
      ]
    },
    {
      "cell_type": "code",
      "metadata": {
        "colab": {
          "base_uri": "https://localhost:8080/"
        },
        "id": "exQs36vwozcO",
        "outputId": "438dcb87-7df2-4841-9f58-0e6d5de42339"
      },
      "source": [
        "drive.mount('mydrive')"
      ],
      "execution_count": null,
      "outputs": [
        {
          "output_type": "stream",
          "name": "stdout",
          "text": [
            "Mounted at mydrive\n"
          ]
        }
      ]
    },
    {
      "cell_type": "markdown",
      "metadata": {
        "id": "cip1ryJ-pJXJ"
      },
      "source": [
        "Cargamos el archivo con los datos de nuestro Google Drive y lo vemos"
      ]
    },
    {
      "cell_type": "code",
      "metadata": {
        "colab": {
          "base_uri": "https://localhost:8080/",
          "height": 417
        },
        "id": "jc6Y_FQDpNkn",
        "outputId": "c437c751-9845-49a1-a069-c52bfb081328"
      },
      "source": [
        "path = r'/content/mydrive/Othercomputers/portatil/Master/AnalisisDatos/Ejercicio_12nov_2/WBR_11_12_denormalized_temp.csv'\n",
        "wbr= pd.read_csv(path, sep = ';', decimal = ',')\n",
        "wbr "
      ],
      "execution_count": null,
      "outputs": [
        {
          "output_type": "execute_result",
          "data": {
            "text/html": [
              "<div>\n",
              "<style scoped>\n",
              "    .dataframe tbody tr th:only-of-type {\n",
              "        vertical-align: middle;\n",
              "    }\n",
              "\n",
              "    .dataframe tbody tr th {\n",
              "        vertical-align: top;\n",
              "    }\n",
              "\n",
              "    .dataframe thead th {\n",
              "        text-align: right;\n",
              "    }\n",
              "</style>\n",
              "<table border=\"1\" class=\"dataframe\">\n",
              "  <thead>\n",
              "    <tr style=\"text-align: right;\">\n",
              "      <th></th>\n",
              "      <th>instant</th>\n",
              "      <th>dteday</th>\n",
              "      <th>season</th>\n",
              "      <th>yr</th>\n",
              "      <th>mnth</th>\n",
              "      <th>holiday</th>\n",
              "      <th>weekday</th>\n",
              "      <th>workingday</th>\n",
              "      <th>weathersit</th>\n",
              "      <th>temp_celsius</th>\n",
              "      <th>windspeed_kh</th>\n",
              "      <th>atemp</th>\n",
              "      <th>hum</th>\n",
              "      <th>casual</th>\n",
              "      <th>registered</th>\n",
              "      <th>cnt</th>\n",
              "    </tr>\n",
              "  </thead>\n",
              "  <tbody>\n",
              "    <tr>\n",
              "      <th>0</th>\n",
              "      <td>1</td>\n",
              "      <td>01/01/2011</td>\n",
              "      <td>1</td>\n",
              "      <td>0</td>\n",
              "      <td>1</td>\n",
              "      <td>0</td>\n",
              "      <td>6</td>\n",
              "      <td>0</td>\n",
              "      <td>2</td>\n",
              "      <td>14.110847</td>\n",
              "      <td>10.749882</td>\n",
              "      <td>0.363625</td>\n",
              "      <td>80.5833</td>\n",
              "      <td>331</td>\n",
              "      <td>654</td>\n",
              "      <td>985</td>\n",
              "    </tr>\n",
              "    <tr>\n",
              "      <th>1</th>\n",
              "      <td>2</td>\n",
              "      <td>02/01/2011</td>\n",
              "      <td>1</td>\n",
              "      <td>0</td>\n",
              "      <td>1</td>\n",
              "      <td>0</td>\n",
              "      <td>0</td>\n",
              "      <td>0</td>\n",
              "      <td>2</td>\n",
              "      <td>14.902598</td>\n",
              "      <td>16.652113</td>\n",
              "      <td>0.353739</td>\n",
              "      <td>69.6087</td>\n",
              "      <td>131</td>\n",
              "      <td>670</td>\n",
              "      <td>801</td>\n",
              "    </tr>\n",
              "    <tr>\n",
              "      <th>2</th>\n",
              "      <td>3</td>\n",
              "      <td>03/01/2011</td>\n",
              "      <td>1</td>\n",
              "      <td>0</td>\n",
              "      <td>1</td>\n",
              "      <td>0</td>\n",
              "      <td>1</td>\n",
              "      <td>1</td>\n",
              "      <td>1</td>\n",
              "      <td>8.050924</td>\n",
              "      <td>16.636703</td>\n",
              "      <td>0.189405</td>\n",
              "      <td>43.7273</td>\n",
              "      <td>120</td>\n",
              "      <td>1229</td>\n",
              "      <td>1349</td>\n",
              "    </tr>\n",
              "    <tr>\n",
              "      <th>3</th>\n",
              "      <td>4</td>\n",
              "      <td>04/01/2011</td>\n",
              "      <td>1</td>\n",
              "      <td>0</td>\n",
              "      <td>1</td>\n",
              "      <td>0</td>\n",
              "      <td>2</td>\n",
              "      <td>1</td>\n",
              "      <td>1</td>\n",
              "      <td>8.200000</td>\n",
              "      <td>10.739832</td>\n",
              "      <td>0.212122</td>\n",
              "      <td>59.0435</td>\n",
              "      <td>108</td>\n",
              "      <td>1454</td>\n",
              "      <td>1562</td>\n",
              "    </tr>\n",
              "    <tr>\n",
              "      <th>4</th>\n",
              "      <td>5</td>\n",
              "      <td>05/01/2011</td>\n",
              "      <td>1</td>\n",
              "      <td>0</td>\n",
              "      <td>1</td>\n",
              "      <td>0</td>\n",
              "      <td>3</td>\n",
              "      <td>1</td>\n",
              "      <td>1</td>\n",
              "      <td>9.305237</td>\n",
              "      <td>12.522300</td>\n",
              "      <td>0.229270</td>\n",
              "      <td>43.6957</td>\n",
              "      <td>82</td>\n",
              "      <td>1518</td>\n",
              "      <td>1600</td>\n",
              "    </tr>\n",
              "    <tr>\n",
              "      <th>...</th>\n",
              "      <td>...</td>\n",
              "      <td>...</td>\n",
              "      <td>...</td>\n",
              "      <td>...</td>\n",
              "      <td>...</td>\n",
              "      <td>...</td>\n",
              "      <td>...</td>\n",
              "      <td>...</td>\n",
              "      <td>...</td>\n",
              "      <td>...</td>\n",
              "      <td>...</td>\n",
              "      <td>...</td>\n",
              "      <td>...</td>\n",
              "      <td>...</td>\n",
              "      <td>...</td>\n",
              "      <td>...</td>\n",
              "    </tr>\n",
              "    <tr>\n",
              "      <th>726</th>\n",
              "      <td>727</td>\n",
              "      <td>27/12/2012</td>\n",
              "      <td>1</td>\n",
              "      <td>1</td>\n",
              "      <td>12</td>\n",
              "      <td>0</td>\n",
              "      <td>4</td>\n",
              "      <td>1</td>\n",
              "      <td>2</td>\n",
              "      <td>10.420847</td>\n",
              "      <td>23.458911</td>\n",
              "      <td>0.226642</td>\n",
              "      <td>65.2917</td>\n",
              "      <td>247</td>\n",
              "      <td>1867</td>\n",
              "      <td>2114</td>\n",
              "    </tr>\n",
              "    <tr>\n",
              "      <th>727</th>\n",
              "      <td>728</td>\n",
              "      <td>28/12/2012</td>\n",
              "      <td>1</td>\n",
              "      <td>1</td>\n",
              "      <td>12</td>\n",
              "      <td>0</td>\n",
              "      <td>5</td>\n",
              "      <td>1</td>\n",
              "      <td>2</td>\n",
              "      <td>10.386653</td>\n",
              "      <td>10.416557</td>\n",
              "      <td>0.255046</td>\n",
              "      <td>59.0000</td>\n",
              "      <td>644</td>\n",
              "      <td>2451</td>\n",
              "      <td>3095</td>\n",
              "    </tr>\n",
              "    <tr>\n",
              "      <th>728</th>\n",
              "      <td>729</td>\n",
              "      <td>29/12/2012</td>\n",
              "      <td>1</td>\n",
              "      <td>1</td>\n",
              "      <td>12</td>\n",
              "      <td>0</td>\n",
              "      <td>6</td>\n",
              "      <td>0</td>\n",
              "      <td>2</td>\n",
              "      <td>10.386653</td>\n",
              "      <td>8.333661</td>\n",
              "      <td>0.242400</td>\n",
              "      <td>75.2917</td>\n",
              "      <td>159</td>\n",
              "      <td>1182</td>\n",
              "      <td>1341</td>\n",
              "    </tr>\n",
              "    <tr>\n",
              "      <th>729</th>\n",
              "      <td>730</td>\n",
              "      <td>30/12/2012</td>\n",
              "      <td>1</td>\n",
              "      <td>1</td>\n",
              "      <td>12</td>\n",
              "      <td>0</td>\n",
              "      <td>0</td>\n",
              "      <td>0</td>\n",
              "      <td>1</td>\n",
              "      <td>10.489153</td>\n",
              "      <td>23.500518</td>\n",
              "      <td>0.231700</td>\n",
              "      <td>48.3333</td>\n",
              "      <td>364</td>\n",
              "      <td>1432</td>\n",
              "      <td>1796</td>\n",
              "    </tr>\n",
              "    <tr>\n",
              "      <th>730</th>\n",
              "      <td>731</td>\n",
              "      <td>31/12/2012</td>\n",
              "      <td>1</td>\n",
              "      <td>1</td>\n",
              "      <td>12</td>\n",
              "      <td>0</td>\n",
              "      <td>1</td>\n",
              "      <td>1</td>\n",
              "      <td>2</td>\n",
              "      <td>8.849153</td>\n",
              "      <td>10.374682</td>\n",
              "      <td>0.223487</td>\n",
              "      <td>57.7500</td>\n",
              "      <td>439</td>\n",
              "      <td>2290</td>\n",
              "      <td>2729</td>\n",
              "    </tr>\n",
              "  </tbody>\n",
              "</table>\n",
              "<p>731 rows × 16 columns</p>\n",
              "</div>"
            ],
            "text/plain": [
              "     instant      dteday  season  yr  ...      hum  casual  registered   cnt\n",
              "0          1  01/01/2011       1   0  ...  80.5833     331         654   985\n",
              "1          2  02/01/2011       1   0  ...  69.6087     131         670   801\n",
              "2          3  03/01/2011       1   0  ...  43.7273     120        1229  1349\n",
              "3          4  04/01/2011       1   0  ...  59.0435     108        1454  1562\n",
              "4          5  05/01/2011       1   0  ...  43.6957      82        1518  1600\n",
              "..       ...         ...     ...  ..  ...      ...     ...         ...   ...\n",
              "726      727  27/12/2012       1   1  ...  65.2917     247        1867  2114\n",
              "727      728  28/12/2012       1   1  ...  59.0000     644        2451  3095\n",
              "728      729  29/12/2012       1   1  ...  75.2917     159        1182  1341\n",
              "729      730  30/12/2012       1   1  ...  48.3333     364        1432  1796\n",
              "730      731  31/12/2012       1   1  ...  57.7500     439        2290  2729\n",
              "\n",
              "[731 rows x 16 columns]"
            ]
          },
          "metadata": {},
          "execution_count": 4
        }
      ]
    },
    {
      "cell_type": "markdown",
      "metadata": {
        "id": "i37IpN61qHxT"
      },
      "source": [
        "La columna con las estaciones está codificada con números, vamos a hacer una nueva pero usando texto"
      ]
    },
    {
      "cell_type": "code",
      "metadata": {
        "id": "nLvnCU6apfeR"
      },
      "source": [
        "wbr.loc[(wbr['season'] == 1), 'season_cat'] = 'Winter'\n",
        "wbr.loc[(wbr['season'] == 2), 'season_cat'] = 'Spring'\n",
        "wbr.loc[(wbr['season'] == 3), 'season_cat'] = 'Summer'\n",
        "wbr.loc[(wbr['season'] == 4), 'season_cat'] = 'Autumn'"
      ],
      "execution_count": null,
      "outputs": []
    },
    {
      "cell_type": "markdown",
      "metadata": {
        "id": "8mFMbVtwp6-_"
      },
      "source": [
        "Comprobamos que se ha hecho bien el cambio"
      ]
    },
    {
      "cell_type": "code",
      "metadata": {
        "colab": {
          "base_uri": "https://localhost:8080/",
          "height": 203
        },
        "id": "TOvFVisKp6i3",
        "outputId": "2fe014af-7709-483f-ccae-f7de17481e13"
      },
      "source": [
        "pd.crosstab(wbr.season, wbr.season_cat)"
      ],
      "execution_count": null,
      "outputs": [
        {
          "output_type": "execute_result",
          "data": {
            "text/html": [
              "<div>\n",
              "<style scoped>\n",
              "    .dataframe tbody tr th:only-of-type {\n",
              "        vertical-align: middle;\n",
              "    }\n",
              "\n",
              "    .dataframe tbody tr th {\n",
              "        vertical-align: top;\n",
              "    }\n",
              "\n",
              "    .dataframe thead th {\n",
              "        text-align: right;\n",
              "    }\n",
              "</style>\n",
              "<table border=\"1\" class=\"dataframe\">\n",
              "  <thead>\n",
              "    <tr style=\"text-align: right;\">\n",
              "      <th>season_cat</th>\n",
              "      <th>Autumn</th>\n",
              "      <th>Spring</th>\n",
              "      <th>Summer</th>\n",
              "      <th>Winter</th>\n",
              "    </tr>\n",
              "    <tr>\n",
              "      <th>season</th>\n",
              "      <th></th>\n",
              "      <th></th>\n",
              "      <th></th>\n",
              "      <th></th>\n",
              "    </tr>\n",
              "  </thead>\n",
              "  <tbody>\n",
              "    <tr>\n",
              "      <th>1</th>\n",
              "      <td>0</td>\n",
              "      <td>0</td>\n",
              "      <td>0</td>\n",
              "      <td>181</td>\n",
              "    </tr>\n",
              "    <tr>\n",
              "      <th>2</th>\n",
              "      <td>0</td>\n",
              "      <td>184</td>\n",
              "      <td>0</td>\n",
              "      <td>0</td>\n",
              "    </tr>\n",
              "    <tr>\n",
              "      <th>3</th>\n",
              "      <td>0</td>\n",
              "      <td>0</td>\n",
              "      <td>188</td>\n",
              "      <td>0</td>\n",
              "    </tr>\n",
              "    <tr>\n",
              "      <th>4</th>\n",
              "      <td>178</td>\n",
              "      <td>0</td>\n",
              "      <td>0</td>\n",
              "      <td>0</td>\n",
              "    </tr>\n",
              "  </tbody>\n",
              "</table>\n",
              "</div>"
            ],
            "text/plain": [
              "season_cat  Autumn  Spring  Summer  Winter\n",
              "season                                    \n",
              "1                0       0       0     181\n",
              "2                0     184       0       0\n",
              "3                0       0     188       0\n",
              "4              178       0       0       0"
            ]
          },
          "metadata": {},
          "execution_count": 15
        }
      ]
    },
    {
      "cell_type": "markdown",
      "metadata": {
        "id": "2ZFvon3rqT2t"
      },
      "source": [
        "A partir de esta columna creamos otra pero conviertiendo sus datos en ordinales.\n",
        "De esta manera, al hacer un gráfico se hará con el orden que marquemos"
      ]
    },
    {
      "cell_type": "code",
      "metadata": {
        "id": "Cu37NO7kqWVb"
      },
      "source": [
        "# Primero definimos la lista y orden de las categorias\n",
        "my_categories = ['Spring', 'Summer', 'Autumn', 'Winter']\n",
        "# Definimos el tipo de dato con la lista de categorias diciendole que están en orden\n",
        "season_type = CategoricalDtype(categories = my_categories, ordered = True)\n",
        "# Creamos una nueva columna del tiempo pero con variables de tipo ordinal\n",
        "wbr['season_cat_ord'] = wbr.season_cat.astype(season_type)"
      ],
      "execution_count": null,
      "outputs": []
    },
    {
      "cell_type": "markdown",
      "metadata": {
        "id": "7F5Ik8WKqqpV"
      },
      "source": [
        "Dibujamos que porcentaje de días hay para cada estación"
      ]
    },
    {
      "cell_type": "code",
      "metadata": {
        "colab": {
          "base_uri": "https://localhost:8080/",
          "height": 265
        },
        "id": "8ra5WLHQqtoq",
        "outputId": "d6152855-38a4-4f47-9f24-6cfc7bc5f893"
      },
      "source": [
        "mytable = pd.crosstab(index = wbr[\"season_cat_ord\"], columns=\"count\")\n",
        "n=mytable.sum()\n",
        "mytable2 = (mytable/n)*100\n",
        "plt.bar(mytable2.index, mytable2['count'])\n",
        "plt.show()"
      ],
      "execution_count": null,
      "outputs": [
        {
          "output_type": "display_data",
          "data": {
            "image/png": "[encoded data removed]",
            "text/plain": [
              "<Figure size 432x288 with 1 Axes>"
            ]
          },
          "metadata": {
            "needs_background": "light"
          }
        }
      ]
    },
    {
      "cell_type": "code",
      "metadata": {
        "id": "t5K7zkHArAbC"
      },
      "source": [
        "Agrupamos los datos de venta por estación"
      ],
      "execution_count": null,
      "outputs": []
    },
    {
      "cell_type": "code",
      "metadata": {
        "id": "N8VsCAdGrDg5"
      },
      "source": [
        "cnt_spring = wbr.loc[wbr.season_cat_ord == 'Spring', 'cnt']\n",
        "cnt_summer = wbr.loc[wbr.season_cat_ord == 'Summer', 'cnt']\n",
        "cnt_autumn = wbr.loc[wbr.season_cat_ord == 'Autumn', 'cnt']\n",
        "cnt_winter = wbr.loc[wbr.season_cat_ord == 'Winter', 'cnt']"
      ],
      "execution_count": null,
      "outputs": []
    },
    {
      "cell_type": "markdown",
      "metadata": {
        "id": "yPglLq23rPdF"
      },
      "source": [
        "Hacemos un test anova para las medias de los datos por estación.\n",
        "Primero obtenemos el valor t"
      ]
    },
    {
      "cell_type": "code",
      "metadata": {
        "colab": {
          "base_uri": "https://localhost:8080/"
        },
        "id": "iapietHhrO6x",
        "outputId": "7e9da0d5-095b-45a4-f52d-121c7296407c"
      },
      "source": [
        "stats.f_oneway(cnt_spring, cnt_summer, cnt_autumn, cnt_winter)[0]"
      ],
      "execution_count": null,
      "outputs": [
        {
          "output_type": "execute_result",
          "data": {
            "text/plain": [
              "128.76962156570784"
            ]
          },
          "metadata": {},
          "execution_count": 20
        }
      ]
    },
    {
      "cell_type": "markdown",
      "metadata": {
        "id": "keVd3wx1rW9v"
      },
      "source": [
        "Ahora obtenemos el p value"
      ]
    },
    {
      "cell_type": "code",
      "metadata": {
        "colab": {
          "base_uri": "https://localhost:8080/"
        },
        "id": "anMnpmyTrZ90",
        "outputId": "1892eb75-136d-4adc-abef-a2ee728f85ff"
      },
      "source": [
        "stats.f_oneway(cnt_spring, cnt_summer, cnt_autumn, cnt_winter)[1]"
      ],
      "execution_count": null,
      "outputs": [
        {
          "output_type": "execute_result",
          "data": {
            "text/plain": [
              "6.720391362913176e-67"
            ]
          },
          "metadata": {},
          "execution_count": 21
        }
      ]
    },
    {
      "cell_type": "markdown",
      "metadata": {
        "id": "Y1yoE9mAreI2"
      },
      "source": [
        "El pvalue siendo menos que 0.05 nos hace rechazar la hipotesis nula de que todas las medias son iguales. Hay por tanto diferencia de medias entre todas las medias o en una media con las otras"
      ]
    },
    {
      "cell_type": "markdown",
      "metadata": {
        "id": "01ScxzHMrma3"
      },
      "source": [
        "Vemos la media de todas las estaciones"
      ]
    },
    {
      "cell_type": "code",
      "metadata": {
        "colab": {
          "base_uri": "https://localhost:8080/"
        },
        "id": "SxqMZPgirog6",
        "outputId": "56d6d52a-a0be-4be4-be34-adeb16028997"
      },
      "source": [
        "wbr.groupby('season_cat_ord').cnt.mean()"
      ],
      "execution_count": null,
      "outputs": [
        {
          "output_type": "execute_result",
          "data": {
            "text/plain": [
              "season_cat_ord\n",
              "Spring    4992.331522\n",
              "Summer    5644.303191\n",
              "Autumn    4728.162921\n",
              "Winter    2604.132597\n",
              "Name: cnt, dtype: float64"
            ]
          },
          "metadata": {},
          "execution_count": 22
        }
      ]
    },
    {
      "cell_type": "markdown",
      "metadata": {
        "id": "kjFhQFn6rzle"
      },
      "source": [
        "Vemos la media total para usarla en el gráfico"
      ]
    },
    {
      "cell_type": "code",
      "metadata": {
        "colab": {
          "base_uri": "https://localhost:8080/"
        },
        "id": "hLD3QPDZr2V9",
        "outputId": "55007eda-ec02-4e27-c780-d76763360819"
      },
      "source": [
        "wbr.cnt.mean()"
      ],
      "execution_count": null,
      "outputs": [
        {
          "output_type": "execute_result",
          "data": {
            "text/plain": [
              "4504.3488372093025"
            ]
          },
          "metadata": {},
          "execution_count": 23
        }
      ]
    },
    {
      "cell_type": "markdown",
      "metadata": {
        "id": "tKMa5zAPr3gQ"
      },
      "source": [
        "Vemos ahora también para el gráfico el total de casos"
      ]
    },
    {
      "cell_type": "code",
      "metadata": {
        "colab": {
          "base_uri": "https://localhost:8080/"
        },
        "id": "YyNfthVFr7Xy",
        "outputId": "7f10bf64-47b9-4ad5-c53f-bd4c5a699715"
      },
      "source": [
        "wbr.cnt.count()"
      ],
      "execution_count": null,
      "outputs": [
        {
          "output_type": "execute_result",
          "data": {
            "text/plain": [
              "731"
            ]
          },
          "metadata": {},
          "execution_count": 24
        }
      ]
    },
    {
      "cell_type": "markdown",
      "metadata": {
        "id": "2HypwLa8sC9f"
      },
      "source": [
        "Ahora dibujamos un gráfico con las medias e intervalos de confianza para cada estación. "
      ]
    },
    {
      "cell_type": "code",
      "metadata": {
        "colab": {
          "base_uri": "https://localhost:8080/",
          "height": 256
        },
        "id": "S4VADiHksMOe",
        "outputId": "5c600073-3df5-4c95-b995-31e19ed1baca"
      },
      "source": [
        "# Elegimos el tamaño del gráfico\n",
        "plt.figure(figsize=(5,3))\n",
        "# Creamos el gráfico\n",
        "ax = sns.pointplot(x=\"season_cat_ord\", y=\"cnt\", data=wbr,ci=99, join=0)\n",
        "# Vamos a poner cuando poner los ticks del eje y y el rango de este\n",
        "plt.yticks(np.arange(1000, 7000, step=500))\n",
        "plt.ylim(1000,6200)\n",
        "# Ponemos una línea horizontal en la media total\n",
        "plt.axhline(y=wbr.cnt.mean(), linewidth=1, linestyle= 'dashed', color=\"blue\")\n",
        "# Vamos a añadir un cuadro con algunos datos: Ponemos la media total, el numero de datos, el pvalue y el valor de t que es otro dato de interés\n",
        "props = dict(boxstyle = 'round', facecolor= 'white', lw=0.5)\n",
        "plt.text(2.4,4500,'Mean:4504.3''\\n''n:731' '\\n' 't:1.601' '\\n' 'Pval.:0.110', bbox=props)\n",
        "# Nombre del eje x\n",
        "plt.xlabel('Weather type')\n",
        "# Título del gráfico\n",
        "plt.title('Average rentals by season.''\\n')\n",
        "plt.show()"
      ],
      "execution_count": null,
      "outputs": [
        {
          "output_type": "display_data",
          "data": {
            "image/png": "[encoded data removed]",
            "text/plain": [
              "<Figure size 360x216 with 1 Axes>"
            ]
          },
          "metadata": {
            "needs_background": "light"
          }
        }
      ]
    }
  ]
}