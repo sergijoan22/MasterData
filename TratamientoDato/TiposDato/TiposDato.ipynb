{
  "nbformat": 4,
  "nbformat_minor": 0,
  "metadata": {
    "colab": {
      "name": "30oct.ipynb",
      "provenance": [],
      "collapsed_sections": []
    },
    "kernelspec": {
      "name": "python3",
      "display_name": "Python 3"
    },
    "language_info": {
      "name": "python"
    }
  },
  "cells": [
    {
      "cell_type": "markdown",
      "metadata": {
        "id": "gF64esj5lHDm"
      },
      "source": [
        "##Leyendo datos estructurados"
      ]
    },
    {
      "cell_type": "code",
      "metadata": {
        "id": "1l5OuQaXgSU4"
      },
      "source": [
        "# Estructura de la tabla que vamos a usar\n",
        "\n",
        "import psycopg2\n",
        "conn = psycopg2.connect(host=\"35.222.74.90\",dbname=\"dvdrental\",user=\"postgres\", password=\"Welcome01\")\n",
        "cur = conn.cursor()\n",
        "cur.execute(\"SELECT * FROM actor\")\n",
        "print(\"The number of parts: \", cur.rowcount)\n",
        "row = cur.fetchone()\n",
        " \n",
        "while row is not None:\n",
        "    print(row[1])\n",
        "    row = cur.fetchone()\n",
        "cur.close()"
      ],
      "execution_count": null,
      "outputs": []
    },
    {
      "cell_type": "markdown",
      "metadata": {
        "id": "OhTM1DXIm9xz"
      },
      "source": [
        "##Leyendo datos no estructurados"
      ]
    },
    {
      "cell_type": "code",
      "metadata": {
        "id": "VdgC4ghnlWl5"
      },
      "source": [
        "from PIL import Image\n",
        "import PIL\n",
        "import requests\n",
        "from io import BytesIO\n",
        "import io\n",
        "from IPython.display import Image \n",
        "\n",
        "\n",
        " \n",
        "url=\"https://picsum.photos/200/300?random=1\"\n",
        " \n",
        "response = requests.get(url)\n",
        "print(response.content)\n",
        "image_bytes = io.BytesIO(response.content)\n",
        "print(image_bytes)\n",
        "img = PIL.Image.open(image_bytes)\n",
        "display(img)"
      ],
      "execution_count": null,
      "outputs": []
    },
    {
      "cell_type": "markdown",
      "metadata": {
        "id": "3Zl03labnA7X"
      },
      "source": [
        "##Leyendo datos semi-estructurados"
      ]
    },
    {
      "cell_type": "code",
      "metadata": {
        "id": "SCA5hCxAsYvm"
      },
      "source": [
        "import requests\n",
        "import json\n",
        "url =\"https://datos.gob.es/apidata/catalog/dataset.json\"\n",
        "response = requests.get(url)\n",
        "json_data=json.loads(response.content)\n",
        "#print(json_data)\n",
        "print(json_data[\"result\"])"
      ],
      "execution_count": null,
      "outputs": []
    },
    {
      "cell_type": "code",
      "metadata": {
        "id": "xEloYcNXu0qu"
      },
      "source": [
        "import requests\n",
        "import xml.etree.ElementTree as ET\n",
        " \n",
        "url = \"https://datos.gob.es/apidata/catalog/dataset.xml\"\n",
        "response = requests.get(url)\n",
        "\n",
        "\n",
        " \n",
        "response_xml_as_string = response.content\n",
        "responseXml = ET.fromstring(response_xml_as_string)\n",
        "#testId = responseXml.find('data').find('testId')\n",
        "print( responseXml.find(\"items\")[0].find(\"description\")[0].text)"
      ],
      "execution_count": null,
      "outputs": []
    },
    {
      "cell_type": "markdown",
      "metadata": {
        "id": "JNcJsH2k0q-t"
      },
      "source": [
        "##Ejercicio de leer un archivo"
      ]
    },
    {
      "cell_type": "markdown",
      "metadata": {
        "id": "w1v0nPRR37em"
      },
      "source": [
        "Con csv"
      ]
    },
    {
      "cell_type": "code",
      "metadata": {
        "id": "uv0PGSE50ukA"
      },
      "source": [
        "import csv"
      ],
      "execution_count": 9,
      "outputs": []
    },
    {
      "cell_type": "code",
      "metadata": {
        "id": "AD01fX380zZa"
      },
      "source": [
        "with open(\"/content/data.csv\", \"r\") as archivo:\n",
        "    infile = csv.reader(archivo, delimiter=\",\")\n",
        "    next(infile)\n",
        "    for row in infile:\n",
        "        if (row[1] == '2008') and (row[0] == '5') and (row[2] == 'Asian'):\n",
        "          print(row[10])"
      ],
      "execution_count": null,
      "outputs": []
    },
    {
      "cell_type": "markdown",
      "metadata": {
        "id": "hBzGud0P5OQi"
      },
      "source": [
        "##API"
      ]
    },
    {
      "cell_type": "code",
      "metadata": {
        "id": "RBqhFAC396u8"
      },
      "source": [
        "data = json.loads\n",
        "response = requests.post('https://petstore.swagger.io/pet')"
      ],
      "execution_count": null,
      "outputs": []
    }
  ]
}