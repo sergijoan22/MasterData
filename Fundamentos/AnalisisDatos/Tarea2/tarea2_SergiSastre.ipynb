{
  "nbformat": 4,
  "nbformat_minor": 0,
  "metadata": {
    "colab": {
      "name": "tarea2.ipynb",
      "provenance": [],
      "collapsed_sections": []
    },
    "kernelspec": {
      "name": "python3",
      "display_name": "Python 3"
    },
    "language_info": {
      "name": "python"
    }
  },
  "cells": [
    {
      "cell_type": "markdown",
      "metadata": {
        "id": "Rz_nHQfJHk72"
      },
      "source": [
        "# Comparación por nacionalidad de la altura de los jugadores de FIFA 22\n",
        "## Sergi Joan Sastre Antequera\n",
        "A partir de los datos de futbolistas de más de 30 ligas sacados del videojuego FIFA 22, se va a estudiar la media de altura de los futbolistas agrupados por diferentes países. Además de España, se va a analizar los datos de dos países con un promedio de altura alto (Dinamarca y Países Bajos) y dos países con un promedio bajo (La India y México)."
      ]
    },
    {
      "cell_type": "markdown",
      "metadata": {
        "id": "L-nlKYdfH1G-"
      },
      "source": [
        "## Preparación\n",
        "Primero se importan las librerías."
      ]
    },
    {
      "cell_type": "code",
      "metadata": {
        "id": "MOS1XSIpcc-G"
      },
      "source": [
        "from google.colab import drive # Para usar Google Drive\n",
        "import os # Sistema operativo\n",
        "import pandas as pd # Datasets\n",
        "import numpy as np # Vectores, matrices\n",
        "import matplotlib.pyplot as plt # Hacer gráficos\n",
        "import scipy.stats as stats # Estadística\n",
        "import seaborn as sns # Gráficos\n",
        "from pandas.api.types import CategoricalDtype # Para variables ordinales"
      ],
      "execution_count": 1,
      "outputs": []
    },
    {
      "cell_type": "markdown",
      "metadata": {
        "id": "ytQO3sr0JJv8"
      },
      "source": [
        "Se vincula la cuenta de Google Drive con el archivo a tratar."
      ]
    },
    {
      "cell_type": "code",
      "metadata": {
        "id": "Bu-5_0cMcojQ",
        "colab": {
          "base_uri": "https://localhost:8080/",
          "height": 0
        },
        "outputId": "85e6c262-a456-432b-f754-c8dd70556da1"
      },
      "source": [
        "drive.mount('mydrive')"
      ],
      "execution_count": 2,
      "outputs": [
        {
          "output_type": "stream",
          "name": "stdout",
          "text": [
            "Mounted at mydrive\n"
          ]
        }
      ]
    },
    {
      "cell_type": "markdown",
      "metadata": {
        "id": "qnRUK5tGJn3b"
      },
      "source": [
        "Ahora se carga el archivo en un dataframe de pandas, del que leemos solo las columnas de interés para aligerar los procesos."
      ]
    },
    {
      "cell_type": "code",
      "metadata": {
        "colab": {
          "base_uri": "https://localhost:8080/",
          "height": 424
        },
        "id": "Ok6fmBKZJtKN",
        "outputId": "ddb55d4d-497f-479f-891d-083b6aff6b2a"
      },
      "source": [
        "path = r'/content/mydrive/Othercomputers/portatil/Master/AnalisisDatos/Tarea2/players_fifa22.csv'\n",
        "colum_leer = ['Nationality', 'Height']\n",
        "df = pd.read_csv(path, usecols = colum_leer)\n",
        "df"
      ],
      "execution_count": 3,
      "outputs": [
        {
          "output_type": "execute_result",
          "data": {
            "text/html": [
              "<div>\n",
              "<style scoped>\n",
              "    .dataframe tbody tr th:only-of-type {\n",
              "        vertical-align: middle;\n",
              "    }\n",
              "\n",
              "    .dataframe tbody tr th {\n",
              "        vertical-align: top;\n",
              "    }\n",
              "\n",
              "    .dataframe thead th {\n",
              "        text-align: right;\n",
              "    }\n",
              "</style>\n",
              "<table border=\"1\" class=\"dataframe\">\n",
              "  <thead>\n",
              "    <tr style=\"text-align: right;\">\n",
              "      <th></th>\n",
              "      <th>Height</th>\n",
              "      <th>Nationality</th>\n",
              "    </tr>\n",
              "  </thead>\n",
              "  <tbody>\n",
              "    <tr>\n",
              "      <th>0</th>\n",
              "      <td>170</td>\n",
              "      <td>Argentina</td>\n",
              "    </tr>\n",
              "    <tr>\n",
              "      <th>1</th>\n",
              "      <td>185</td>\n",
              "      <td>Poland</td>\n",
              "    </tr>\n",
              "    <tr>\n",
              "      <th>2</th>\n",
              "      <td>187</td>\n",
              "      <td>Portugal</td>\n",
              "    </tr>\n",
              "    <tr>\n",
              "      <th>3</th>\n",
              "      <td>182</td>\n",
              "      <td>France</td>\n",
              "    </tr>\n",
              "    <tr>\n",
              "      <th>4</th>\n",
              "      <td>188</td>\n",
              "      <td>Slovenia</td>\n",
              "    </tr>\n",
              "    <tr>\n",
              "      <th>...</th>\n",
              "      <td>...</td>\n",
              "      <td>...</td>\n",
              "    </tr>\n",
              "    <tr>\n",
              "      <th>19255</th>\n",
              "      <td>180</td>\n",
              "      <td>Republic of Ireland</td>\n",
              "    </tr>\n",
              "    <tr>\n",
              "      <th>19256</th>\n",
              "      <td>196</td>\n",
              "      <td>China PR</td>\n",
              "    </tr>\n",
              "    <tr>\n",
              "      <th>19257</th>\n",
              "      <td>183</td>\n",
              "      <td>China PR</td>\n",
              "    </tr>\n",
              "    <tr>\n",
              "      <th>19258</th>\n",
              "      <td>174</td>\n",
              "      <td>China PR</td>\n",
              "    </tr>\n",
              "    <tr>\n",
              "      <th>19259</th>\n",
              "      <td>186</td>\n",
              "      <td>China PR</td>\n",
              "    </tr>\n",
              "  </tbody>\n",
              "</table>\n",
              "<p>19260 rows × 2 columns</p>\n",
              "</div>"
            ],
            "text/plain": [
              "       Height          Nationality\n",
              "0         170            Argentina\n",
              "1         185               Poland\n",
              "2         187             Portugal\n",
              "3         182               France\n",
              "4         188             Slovenia\n",
              "...       ...                  ...\n",
              "19255     180  Republic of Ireland\n",
              "19256     196             China PR\n",
              "19257     183             China PR\n",
              "19258     174             China PR\n",
              "19259     186             China PR\n",
              "\n",
              "[19260 rows x 2 columns]"
            ]
          },
          "metadata": {},
          "execution_count": 3
        }
      ]
    },
    {
      "cell_type": "markdown",
      "metadata": {
        "id": "3bQtA4MVOd9B"
      },
      "source": [
        "## Preparación datos"
      ]
    },
    {
      "cell_type": "markdown",
      "metadata": {
        "id": "OL49usA0Kthk"
      },
      "source": [
        "Cambiamos el nombre de la columna 'Height'."
      ]
    },
    {
      "cell_type": "code",
      "metadata": {
        "id": "HQvZsM3NKvqi"
      },
      "source": [
        "df.rename(columns={'Height': 'Altura'}, inplace=True)"
      ],
      "execution_count": 4,
      "outputs": []
    },
    {
      "cell_type": "markdown",
      "metadata": {
        "id": "o1t2aknvKyme"
      },
      "source": [
        "Añadimos una columna llamada Nacionalidad con las nacionalidades."
      ]
    },
    {
      "cell_type": "code",
      "metadata": {
        "id": "FUrJQEMwM9WW"
      },
      "source": [
        "df.loc[df['Nationality'] == 'Netherlands', 'Nacionalidad'] = 'Países bajos'\n",
        "df.loc[df['Nationality'] == 'Denmark', 'Nacionalidad'] = 'Dinamarca'\n",
        "df.loc[df['Nationality'] == 'Spain', 'Nacionalidad'] = 'España'\n",
        "df.loc[df['Nationality'] == 'Mexico', 'Nacionalidad'] = 'México'\n",
        "df.loc[df['Nationality'] == 'India', 'Nacionalidad'] = 'India'"
      ],
      "execution_count": 5,
      "outputs": []
    },
    {
      "cell_type": "markdown",
      "metadata": {
        "id": "_B95hk1YM-5-"
      },
      "source": [
        "Vemos que se ha hecho bien."
      ]
    },
    {
      "cell_type": "code",
      "metadata": {
        "colab": {
          "base_uri": "https://localhost:8080/",
          "height": 238
        },
        "id": "956aZgc4NDGB",
        "outputId": "0f379f02-00d7-4e72-b25f-6129ae424734"
      },
      "source": [
        "pd.crosstab(df.Nationality, df.Nacionalidad)"
      ],
      "execution_count": 6,
      "outputs": [
        {
          "output_type": "execute_result",
          "data": {
            "text/html": [
              "<div>\n",
              "<style scoped>\n",
              "    .dataframe tbody tr th:only-of-type {\n",
              "        vertical-align: middle;\n",
              "    }\n",
              "\n",
              "    .dataframe tbody tr th {\n",
              "        vertical-align: top;\n",
              "    }\n",
              "\n",
              "    .dataframe thead th {\n",
              "        text-align: right;\n",
              "    }\n",
              "</style>\n",
              "<table border=\"1\" class=\"dataframe\">\n",
              "  <thead>\n",
              "    <tr style=\"text-align: right;\">\n",
              "      <th>Nacionalidad</th>\n",
              "      <th>Dinamarca</th>\n",
              "      <th>España</th>\n",
              "      <th>India</th>\n",
              "      <th>México</th>\n",
              "      <th>Países bajos</th>\n",
              "    </tr>\n",
              "    <tr>\n",
              "      <th>Nationality</th>\n",
              "      <th></th>\n",
              "      <th></th>\n",
              "      <th></th>\n",
              "      <th></th>\n",
              "      <th></th>\n",
              "    </tr>\n",
              "  </thead>\n",
              "  <tbody>\n",
              "    <tr>\n",
              "      <th>Denmark</th>\n",
              "      <td>306</td>\n",
              "      <td>0</td>\n",
              "      <td>0</td>\n",
              "      <td>0</td>\n",
              "      <td>0</td>\n",
              "    </tr>\n",
              "    <tr>\n",
              "      <th>India</th>\n",
              "      <td>0</td>\n",
              "      <td>0</td>\n",
              "      <td>213</td>\n",
              "      <td>0</td>\n",
              "      <td>0</td>\n",
              "    </tr>\n",
              "    <tr>\n",
              "      <th>Mexico</th>\n",
              "      <td>0</td>\n",
              "      <td>0</td>\n",
              "      <td>0</td>\n",
              "      <td>355</td>\n",
              "      <td>0</td>\n",
              "    </tr>\n",
              "    <tr>\n",
              "      <th>Netherlands</th>\n",
              "      <td>0</td>\n",
              "      <td>0</td>\n",
              "      <td>0</td>\n",
              "      <td>0</td>\n",
              "      <td>439</td>\n",
              "    </tr>\n",
              "    <tr>\n",
              "      <th>Spain</th>\n",
              "      <td>0</td>\n",
              "      <td>1091</td>\n",
              "      <td>0</td>\n",
              "      <td>0</td>\n",
              "      <td>0</td>\n",
              "    </tr>\n",
              "  </tbody>\n",
              "</table>\n",
              "</div>"
            ],
            "text/plain": [
              "Nacionalidad  Dinamarca  España  India  México  Países bajos\n",
              "Nationality                                                 \n",
              "Denmark             306       0      0       0             0\n",
              "India                 0       0    213       0             0\n",
              "Mexico                0       0      0     355             0\n",
              "Netherlands           0       0      0       0           439\n",
              "Spain                 0    1091      0       0             0"
            ]
          },
          "metadata": {},
          "execution_count": 6
        }
      ]
    },
    {
      "cell_type": "markdown",
      "metadata": {
        "id": "FWdl9B1iNI2n"
      },
      "source": [
        "Eliminamos los jugadores que no son de estas nacionalidades."
      ]
    },
    {
      "cell_type": "code",
      "metadata": {
        "id": "END2wiF-NNMc"
      },
      "source": [
        "df.dropna(subset = ['Nacionalidad'], inplace = True)"
      ],
      "execution_count": 7,
      "outputs": []
    },
    {
      "cell_type": "markdown",
      "metadata": {
        "id": "5nxTUneoNPpV"
      },
      "source": [
        "Se va a crear un tipo de dato ordinal a partir de las nacionalidades. Se define el orden de los elementos y se crea una nueva columna con el nuevo tipo de dato."
      ]
    },
    {
      "cell_type": "code",
      "metadata": {
        "colab": {
          "base_uri": "https://localhost:8080/",
          "height": 424
        },
        "id": "fg4rX2E3Nm7n",
        "outputId": "a7890d9d-e5a2-40f4-83fb-137de096c59b"
      },
      "source": [
        "categorias_Nacionalidad = ['Países bajos', 'Dinamarca', 'España', 'México', 'India']\n",
        "tipo_Nacionalidad = CategoricalDtype(categories = categorias_Nacionalidad, ordered = True)\n",
        "df['Nacionalidad_ord'] = df.Nacionalidad.astype(tipo_Nacionalidad)\n",
        "df"
      ],
      "execution_count": 9,
      "outputs": [
        {
          "output_type": "execute_result",
          "data": {
            "text/html": [
              "<div>\n",
              "<style scoped>\n",
              "    .dataframe tbody tr th:only-of-type {\n",
              "        vertical-align: middle;\n",
              "    }\n",
              "\n",
              "    .dataframe tbody tr th {\n",
              "        vertical-align: top;\n",
              "    }\n",
              "\n",
              "    .dataframe thead th {\n",
              "        text-align: right;\n",
              "    }\n",
              "</style>\n",
              "<table border=\"1\" class=\"dataframe\">\n",
              "  <thead>\n",
              "    <tr style=\"text-align: right;\">\n",
              "      <th></th>\n",
              "      <th>Altura</th>\n",
              "      <th>Nationality</th>\n",
              "      <th>Nacionalidad</th>\n",
              "      <th>Nacionalidad_ord</th>\n",
              "    </tr>\n",
              "  </thead>\n",
              "  <tbody>\n",
              "    <tr>\n",
              "      <th>16</th>\n",
              "      <td>193</td>\n",
              "      <td>Netherlands</td>\n",
              "      <td>Países bajos</td>\n",
              "      <td>Países bajos</td>\n",
              "    </tr>\n",
              "    <tr>\n",
              "      <th>23</th>\n",
              "      <td>184</td>\n",
              "      <td>Spain</td>\n",
              "      <td>España</td>\n",
              "      <td>España</td>\n",
              "    </tr>\n",
              "    <tr>\n",
              "      <th>41</th>\n",
              "      <td>180</td>\n",
              "      <td>Netherlands</td>\n",
              "      <td>Países bajos</td>\n",
              "      <td>Países bajos</td>\n",
              "    </tr>\n",
              "    <tr>\n",
              "      <th>52</th>\n",
              "      <td>182</td>\n",
              "      <td>Spain</td>\n",
              "      <td>España</td>\n",
              "      <td>España</td>\n",
              "    </tr>\n",
              "    <tr>\n",
              "      <th>53</th>\n",
              "      <td>189</td>\n",
              "      <td>Spain</td>\n",
              "      <td>España</td>\n",
              "      <td>España</td>\n",
              "    </tr>\n",
              "    <tr>\n",
              "      <th>...</th>\n",
              "      <td>...</td>\n",
              "      <td>...</td>\n",
              "      <td>...</td>\n",
              "      <td>...</td>\n",
              "    </tr>\n",
              "    <tr>\n",
              "      <th>19231</th>\n",
              "      <td>169</td>\n",
              "      <td>India</td>\n",
              "      <td>India</td>\n",
              "      <td>India</td>\n",
              "    </tr>\n",
              "    <tr>\n",
              "      <th>19234</th>\n",
              "      <td>173</td>\n",
              "      <td>India</td>\n",
              "      <td>India</td>\n",
              "      <td>India</td>\n",
              "    </tr>\n",
              "    <tr>\n",
              "      <th>19240</th>\n",
              "      <td>176</td>\n",
              "      <td>India</td>\n",
              "      <td>India</td>\n",
              "      <td>India</td>\n",
              "    </tr>\n",
              "    <tr>\n",
              "      <th>19243</th>\n",
              "      <td>175</td>\n",
              "      <td>India</td>\n",
              "      <td>India</td>\n",
              "      <td>India</td>\n",
              "    </tr>\n",
              "    <tr>\n",
              "      <th>19247</th>\n",
              "      <td>176</td>\n",
              "      <td>India</td>\n",
              "      <td>India</td>\n",
              "      <td>India</td>\n",
              "    </tr>\n",
              "  </tbody>\n",
              "</table>\n",
              "<p>2404 rows × 4 columns</p>\n",
              "</div>"
            ],
            "text/plain": [
              "       Altura  Nationality  Nacionalidad Nacionalidad_ord\n",
              "16        193  Netherlands  Países bajos     Países bajos\n",
              "23        184        Spain        España           España\n",
              "41        180  Netherlands  Países bajos     Países bajos\n",
              "52        182        Spain        España           España\n",
              "53        189        Spain        España           España\n",
              "...       ...          ...           ...              ...\n",
              "19231     169        India         India            India\n",
              "19234     173        India         India            India\n",
              "19240     176        India         India            India\n",
              "19243     175        India         India            India\n",
              "19247     176        India         India            India\n",
              "\n",
              "[2404 rows x 4 columns]"
            ]
          },
          "metadata": {},
          "execution_count": 9
        }
      ]
    },
    {
      "cell_type": "markdown",
      "metadata": {
        "id": "d7HjBeBSOref"
      },
      "source": [
        "# Análisis de los datos"
      ]
    },
    {
      "cell_type": "markdown",
      "metadata": {
        "id": "3asneXQuNxkE"
      },
      "source": [
        "Ahora se dibuja un gráfico con el porcentaje de juagadores de cada nacionalidad de entre las 5 elegidas."
      ]
    },
    {
      "cell_type": "code",
      "metadata": {
        "colab": {
          "base_uri": "https://localhost:8080/",
          "height": 266
        },
        "id": "UM54ETc8N6Ih",
        "outputId": "59775ea1-68e3-4f02-921f-4b88e128d2d9"
      },
      "source": [
        "n_paises = pd.crosstab(index = df[\"Nacionalidad_ord\"], columns=\"count\")\n",
        "n=n_paises.sum()[0]\n",
        "n_paises_100 = (n_paises / n)*100\n",
        "plt.bar(n_paises_100.index, n_paises_100['count'])\n",
        "plt.show()"
      ],
      "execution_count": 10,
      "outputs": [
        {
          "output_type": "display_data",
          "data": {
            "image/png": "[encoded data removed]",
            "text/plain": [
              "<Figure size 432x288 with 1 Axes>"
            ]
          },
          "metadata": {
            "needs_background": "light"
          }
        }
      ]
    },
    {
      "cell_type": "markdown",
      "metadata": {
        "id": "MGCGtmqYOKVq"
      },
      "source": [
        "Entre estos dato destaca que cerca de la mitad de los datos son de España, Lo que significa que tiene muchos más jugadores en el juego que los otros países."
      ]
    },
    {
      "cell_type": "markdown",
      "metadata": {
        "id": "Uub7wa3EO3O5"
      },
      "source": [
        "Agrupamos los datos de altura por la nacionalidad."
      ]
    },
    {
      "cell_type": "code",
      "metadata": {
        "id": "Ll2v1Fl1O8kp"
      },
      "source": [
        "Altura_pai = df.loc[df.Nacionalidad_ord == 'Países bajos', 'Altura']\n",
        "Altura_din = df.loc[df.Nacionalidad_ord == 'Dinamarca', 'Altura']\n",
        "Altura_esp = df.loc[df.Nacionalidad_ord == 'España', 'Altura']\n",
        "Altura_mex = df.loc[df.Nacionalidad_ord == 'México', 'Altura']\n",
        "Altura_ind = df.loc[df.Nacionalidad_ord == 'India', 'Altura']"
      ],
      "execution_count": 11,
      "outputs": []
    },
    {
      "cell_type": "markdown",
      "metadata": {
        "id": "phSLy7xTO-D3"
      },
      "source": [
        "Hacemos un test anova en las medias de altura de los países del que obtenemos t y el p value."
      ]
    },
    {
      "cell_type": "code",
      "metadata": {
        "colab": {
          "base_uri": "https://localhost:8080/",
          "height": 0
        },
        "id": "UzKVSnwGPQ__",
        "outputId": "0e26db3a-8214-41bd-825c-a0e8b144067c"
      },
      "source": [
        "t, p = stats.f_oneway(Altura_pai, Altura_din, Altura_esp, Altura_mex, Altura_ind)\n",
        "p"
      ],
      "execution_count": 12,
      "outputs": [
        {
          "output_type": "execute_result",
          "data": {
            "text/plain": [
              "5.750857879067777e-79"
            ]
          },
          "metadata": {},
          "execution_count": 12
        }
      ]
    },
    {
      "cell_type": "markdown",
      "metadata": {
        "id": "h6D9fCScPV2I"
      },
      "source": [
        "El pvalue siendo menos que 0.05 nos hace rechazar la hipotesis nula de que todas las medias son iguales con una seguridad del 95%. Hay por tanto diferencia de medias entre al menos alguna de las parejas de países."
      ]
    },
    {
      "cell_type": "markdown",
      "metadata": {
        "id": "uKDa8uHHPoOy"
      },
      "source": [
        "Vemos la altura de por país."
      ]
    },
    {
      "cell_type": "code",
      "metadata": {
        "colab": {
          "base_uri": "https://localhost:8080/",
          "height": 0
        },
        "id": "mrhuXvucPrbK",
        "outputId": "ef74b87b-9f3d-4d0f-8adf-3a30d37d304e"
      },
      "source": [
        "df.groupby('Nacionalidad_ord').Altura.mean()"
      ],
      "execution_count": 13,
      "outputs": [
        {
          "output_type": "execute_result",
          "data": {
            "text/plain": [
              "Nacionalidad_ord\n",
              "Países bajos    183.469248\n",
              "Dinamarca       184.490196\n",
              "España          180.472044\n",
              "México          177.763380\n",
              "India           175.600939\n",
              "Name: Altura, dtype: float64"
            ]
          },
          "metadata": {},
          "execution_count": 13
        }
      ]
    },
    {
      "cell_type": "markdown",
      "metadata": {
        "id": "JiOficfRPw0g"
      },
      "source": [
        "Dibujamos las medias junto a sus intervalos de confianza del 95%."
      ]
    },
    {
      "cell_type": "code",
      "metadata": {
        "colab": {
          "base_uri": "https://localhost:8080/",
          "height": 311
        },
        "id": "iP_9sVfUP5xM",
        "outputId": "9c73d3be-8dc3-4cb4-bccf-914a697d902b"
      },
      "source": [
        "# Creación gráfico\n",
        "plt.figure(figsize=(5,4))\n",
        "ax = sns.pointplot(x=\"Nacionalidad_ord\", y=\"Altura\", data=df,ci=95, join=0)\n",
        "\n",
        "# Eje Y\n",
        "plt.yticks(np.arange(174, 186, step=2))\n",
        "plt.ylim(174, 186)\n",
        "\n",
        "# Línea horizontal con la media total de los 5 países\n",
        "plt.axhline(y=df.Altura.mean(), linewidth=1, linestyle= 'dashed', color=\"blue\")\n",
        "\n",
        "# Cuadro con la media, el tamaño de la muestra, y el t y p value\n",
        "media = str(df.Altura.mean().__round__(1))\n",
        "n = str(n)\n",
        "t = format(t, '.3f')\n",
        "p = format(p, '.3f')\n",
        "texto_caja = 'Mean: ' + media + '\\nn: ' + n + '\\nt: ' + t + '\\np value: ' + p\n",
        "props = dict(boxstyle = 'round', facecolor= 'white', lw=0.5)\n",
        "plt.text(3, 182.5, texto_caja, bbox=props)\n",
        "\n",
        "# Nombre de ejes y gráfico\n",
        "plt.xlabel('Nacionalidad')\n",
        "plt.title('Promedio de altura por Nacionalidad\\nen los jugadores de FIFA 22')\n",
        "\n",
        "plt.show()"
      ],
      "execution_count": 14,
      "outputs": [
        {
          "output_type": "display_data",
          "data": {
            "image/png": "[encoded data removed]",
            "text/plain": [
              "<Figure size 360x288 with 1 Axes>"
            ]
          },
          "metadata": {
            "needs_background": "light"
          }
        }
      ]
    },
    {
      "cell_type": "markdown",
      "metadata": {
        "id": "5YTBTfspQota"
      },
      "source": [
        "Del gráfico podemos ver que de las 5 nacionalidades, la media de La India, México y España son diferentes cada una respecto a todas las demás. Esto puede ser asegurado con una confianza del 95%. Sin embargo, en el caso de Países Bajos y Dinamarca no tenemos la misma seguridad para afirmar la diferencia entre sus medias de altura."
      ]
    }
  ]
}